{
 "cells": [
  {
   "cell_type": "code",
   "execution_count": 1,
   "metadata": {
    "collapsed": true
   },
   "outputs": [],
   "source": [
    "import numpy as np\n",
    "import pandas as pd"
   ]
  },
  {
   "cell_type": "code",
   "execution_count": 2,
   "metadata": {
    "collapsed": true
   },
   "outputs": [],
   "source": [
    "data = pd.read_csv(\"DSL-StrongPasswordData.csv\")"
   ]
  },
  {
   "cell_type": "code",
   "execution_count": 3,
   "metadata": {
    "collapsed": false
   },
   "outputs": [],
   "source": [
    "# 51 total\n",
    "subjects = data[\"subject\"].unique()"
   ]
  },
  {
   "cell_type": "code",
   "execution_count": 25,
   "metadata": {
    "collapsed": true
   },
   "outputs": [],
   "source": [
    "class euclideanDetector:\n",
    "    \n",
    "    def __init__(self, train, test_genuine, test_imposter):\n",
    "        self.train = train\n",
    "        self.test_genuine = test_genuine\n",
    "        self.test_imposter = test_imposter\n",
    "        self.user_scores = []\n",
    "        self.imposter_scores = []\n",
    "        self.mean_vector = []\n",
    "        \n",
    "    def training(self):\n",
    "        self.mean_vector = self.train.mean().values\n",
    "        \n",
    "    def testing(self):\n",
    "        for i in range(self.test_genuine.shape[0]):\n",
    "            cur_score = np.linalg.norm(self.test_genuine.iloc[i].values - self.mean_vector)\n",
    "            self.user_scores.append(cur_score)\n",
    "            \n",
    "        for i in range(self.test_imposter.shape[0]):\n",
    "            cur_score = np.linalg.norm(self.test_imposter.iloc[i].values - self.mean_vector)\n",
    "            self.imposter_scores.append(cur_score)\n",
    "            \n",
    "    def getScores(self):\n",
    "        self.training()\n",
    "        self.testing()\n",
    "        return self.user_scores, self.imposter_scores"
   ]
  },
  {
   "cell_type": "code",
   "execution_count": 4,
   "metadata": {
    "collapsed": true
   },
   "outputs": [],
   "source": [
    "for subject in subjects:\n",
    "    \n",
    "    # Consider current subject as genuine and rest as imposters\n",
    "    genuine_user_data = data.loc[data.subject == subject, \"H.period\":\"H.Return\"]\n",
    "    imposter_data = data.loc[data.subject != subject, :]\n",
    "    \n",
    "    # genuine user's first 200 time vectors for training\n",
    "    train = genuine_user_data[:200]\n",
    "    \n",
    "    # True set (200 records)\n",
    "    test_genuine = genuine_user_data[200:]\n",
    "    \n",
    "    # False set (250 records, 5 per imposter, 50 imposters in all)\n",
    "    test_imposter = imposter_data.groupby(\"subject\").head(5).loc[:, \"H.period\":\"H.Return\"]"
   ]
  },
  {
   "cell_type": "code",
   "execution_count": null,
   "metadata": {
    "collapsed": true
   },
   "outputs": [],
   "source": []
  }
 ],
 "metadata": {
  "kernelspec": {
   "display_name": "Python [Root]",
   "language": "python",
   "name": "Python [Root]"
  },
  "language_info": {
   "codemirror_mode": {
    "name": "ipython",
    "version": 3
   },
   "file_extension": ".py",
   "mimetype": "text/x-python",
   "name": "python",
   "nbconvert_exporter": "python",
   "pygments_lexer": "ipython3",
   "version": "3.5.2"
  }
 },
 "nbformat": 4,
 "nbformat_minor": 0
}
