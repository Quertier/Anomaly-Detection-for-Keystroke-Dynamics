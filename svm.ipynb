{
 "cells": [
  {
   "cell_type": "code",
   "execution_count": 241,
   "metadata": {
    "collapsed": true
   },
   "outputs": [],
   "source": [
    "import csv,sys\n",
    "import math,random\n",
    "import subprocess\n",
    "import numpy as np\n",
    "import pandas as pd\n",
    "import cvxopt\n",
    "import cvxopt.solvers\n",
    "from sklearn.metrics import roc_curve\n",
    "from sklearn.svm import OneClassSVM"
   ]
  },
  {
   "cell_type": "code",
   "execution_count": 242,
   "metadata": {
    "collapsed": true
   },
   "outputs": [],
   "source": [
    "data = pd.read_csv(\"DSL-StrongPasswordData.csv\")"
   ]
  },
  {
   "cell_type": "code",
   "execution_count": 243,
   "metadata": {
    "collapsed": true
   },
   "outputs": [],
   "source": [
    "subjects = data[\"subject\"].unique()"
   ]
  },
  {
   "cell_type": "code",
   "execution_count": 244,
   "metadata": {
    "collapsed": true
   },
   "outputs": [],
   "source": [
    "def evaluateEER(user_scores, imposter_scores):\n",
    "    #print user_scores\n",
    "    labels = [0]*len(user_scores) + [1]*len(imposter_scores)\n",
    "    fpr, tpr, thresholds = roc_curve(labels, user_scores + imposter_scores)\n",
    "    missrates = 1 - tpr\n",
    "    farates = fpr\n",
    "    dists = missrates - farates\n",
    "    idx1 = np.argmin(dists[dists >= 0])\n",
    "    idx2 = np.argmax(dists[dists < 0])\n",
    "    x = [missrates[idx1], farates[idx1]]\n",
    "    y = [missrates[idx2], farates[idx2]]\n",
    "    a = ( x[0] - x[1] ) / ( y[1] - x[1] - y[0] + x[0] )\n",
    "    eer = x[0] + a * ( y[0] - x[0] )\n",
    "    return eer"
   ]
  },
  {
   "cell_type": "code",
   "execution_count": 245,
   "metadata": {
    "collapsed": true
   },
   "outputs": [],
   "source": [
    "def evaluate():\n",
    "    eers = []\n",
    "    for subject in subjects:\n",
    "            \n",
    "        user_scores = []\n",
    "        imposter_scores = []\n",
    "    \n",
    "        # Consider current subject as genuine and rest as imposters\n",
    "        genuine_user_data = data.loc[data.subject == subject, \"H.period\":\"H.Return\"]\n",
    "        imposter_data = data.loc[data.subject != subject, :]\n",
    "    \n",
    "        # genuine user's first 200 time vectors for training\n",
    "        train = genuine_user_data[:200]\n",
    "        train = train.values\n",
    "        train = np.array(train)\n",
    "        #labels = np.ones(len(train),dtype = np.float64)\n",
    "        #print type(labels[0])\n",
    "        test_genuine = genuine_user_data[200:]\n",
    "        test_genuine = test_genuine.values\n",
    "        test_genuine = np.array(test_genuine)\n",
    "        test_imposter = imposter_data.groupby(\"subject\").head(5).loc[:, \"H.period\":\"H.Return\"]\n",
    "        test_imposter = test_imposter.values\n",
    "        test_imposter = np.array(test_imposter)\n",
    "        clf = OneClassSVM(kernel='rbf',gamma=0.1)\n",
    "        clf.fit(train)\n",
    "        #print len(test_genuine)\n",
    "        #print len(test_imposter)\n",
    "        user_scores = clf.decision_function(test_genuine)\n",
    "        imposter_scores = clf.decision_function(test_imposter)\n",
    "        user_scores = list(user_scores)\n",
    "        imposter_scores = list(imposter_scores)\n",
    "        eers.append(evaluateEER(user_scores, imposter_scores))\n",
    "    #print eers   \n",
    "    return np.mean(eers), np.std(eers)"
   ]
  },
  {
   "cell_type": "code",
   "execution_count": 246,
   "metadata": {
    "collapsed": false
   },
   "outputs": [
    {
     "data": {
      "text/plain": [
       "(0.81530951242962812, 0.088570174457551415)"
      ]
     },
     "execution_count": 246,
     "metadata": {},
     "output_type": "execute_result"
    }
   ],
   "source": [
    "evaluate()"
   ]
  }
 ],
 "metadata": {
  "kernelspec": {
   "display_name": "Python 2",
   "language": "python",
   "name": "python2"
  },
  "language_info": {
   "codemirror_mode": {
    "name": "ipython",
    "version": 2
   },
   "file_extension": ".py",
   "mimetype": "text/x-python",
   "name": "python",
   "nbconvert_exporter": "python",
   "pygments_lexer": "ipython2",
   "version": "2.7.9"
  }
 },
 "nbformat": 4,
 "nbformat_minor": 1
}
